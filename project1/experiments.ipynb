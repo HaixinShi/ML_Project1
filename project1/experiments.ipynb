{
 "cells": [
  {
   "cell_type": "code",
   "execution_count": 1,
   "metadata": {},
   "outputs": [],
   "source": [
    "import numpy as np\n",
    "import pandas as pd\n",
    "from models import *\n",
    "from helpers import get_cross_validation_data, mse_loss\n",
    "import matplotlib.pyplot as plt\n",
    "import seaborn as sns; sns.set_theme()\n",
    "%load_ext autoreload\n",
    "%autoreload 2"
   ]
  },
  {
   "cell_type": "code",
   "execution_count": 13,
   "metadata": {},
   "outputs": [],
   "source": [
    "data = np.genfromtxt(\"data/train.csv\", skip_header=1, delimiter = \",\", dtype=\"str\")"
   ]
  },
  {
   "cell_type": "code",
   "execution_count": 15,
   "metadata": {},
   "outputs": [],
   "source": [
    "x, y = data_preprocessing(data.copy(),percent=0.5,nan=\"mean\",normalize=True,is_test=False)"
   ]
  },
  {
   "cell_type": "code",
   "execution_count": 17,
   "metadata": {},
   "outputs": [
    {
     "data": {
      "text/plain": [
       "(250000, 23)"
      ]
     },
     "execution_count": 17,
     "metadata": {},
     "output_type": "execute_result"
    }
   ],
   "source": [
    "x.shape"
   ]
  },
  {
   "cell_type": "markdown",
   "metadata": {},
   "source": [
    "## Experiment of different Lambda and degree\n",
    "As lambda and degree interactively effect each other, we jointly test them."
   ]
  },
  {
   "cell_type": "code",
   "execution_count": 46,
   "metadata": {},
   "outputs": [
    {
     "name": "stdout",
     "output_type": "stream",
     "text": [
      "lambda:1e-05, degree:1\n",
      "lambda:1e-05, degree:2\n",
      "lambda:1e-05, degree:3\n",
      "lambda:1e-05, degree:4\n",
      "lambda:1e-05, degree:5\n",
      "lambda:3.5938136638046256e-05, degree:1\n",
      "lambda:3.5938136638046256e-05, degree:2\n",
      "lambda:3.5938136638046256e-05, degree:3\n",
      "lambda:3.5938136638046256e-05, degree:4\n",
      "lambda:3.5938136638046256e-05, degree:5\n",
      "lambda:0.0001291549665014884, degree:1\n",
      "lambda:0.0001291549665014884, degree:2\n",
      "lambda:0.0001291549665014884, degree:3\n",
      "lambda:0.0001291549665014884, degree:4\n",
      "lambda:0.0001291549665014884, degree:5\n",
      "lambda:0.0004641588833612782, degree:1\n",
      "lambda:0.0004641588833612782, degree:2\n",
      "lambda:0.0004641588833612782, degree:3\n",
      "lambda:0.0004641588833612782, degree:4\n",
      "lambda:0.0004641588833612782, degree:5\n",
      "lambda:0.0016681005372000592, degree:1\n",
      "lambda:0.0016681005372000592, degree:2\n",
      "lambda:0.0016681005372000592, degree:3\n",
      "lambda:0.0016681005372000592, degree:4\n",
      "lambda:0.0016681005372000592, degree:5\n",
      "lambda:0.005994842503189409, degree:1\n",
      "lambda:0.005994842503189409, degree:2\n",
      "lambda:0.005994842503189409, degree:3\n",
      "lambda:0.005994842503189409, degree:4\n",
      "lambda:0.005994842503189409, degree:5\n",
      "lambda:0.021544346900318846, degree:1\n",
      "lambda:0.021544346900318846, degree:2\n",
      "lambda:0.021544346900318846, degree:3\n",
      "lambda:0.021544346900318846, degree:4\n",
      "lambda:0.021544346900318846, degree:5\n",
      "lambda:0.07742636826811278, degree:1\n",
      "lambda:0.07742636826811278, degree:2\n",
      "lambda:0.07742636826811278, degree:3\n",
      "lambda:0.07742636826811278, degree:4\n",
      "lambda:0.07742636826811278, degree:5\n",
      "lambda:0.2782559402207126, degree:1\n",
      "lambda:0.2782559402207126, degree:2\n",
      "lambda:0.2782559402207126, degree:3\n",
      "lambda:0.2782559402207126, degree:4\n",
      "lambda:0.2782559402207126, degree:5\n",
      "lambda:1.0, degree:1\n",
      "lambda:1.0, degree:2\n",
      "lambda:1.0, degree:3\n",
      "lambda:1.0, degree:4\n",
      "lambda:1.0, degree:5\n"
     ]
    }
   ],
   "source": [
    "lambdas = np.logspace(-5, 0, 10)\n",
    "degrees = list(range(1,6))\n",
    "\n",
    "def lambda_degree_demo(x, y, degrees, lambdas, seed, k_fold=10):\n",
    "    \"\"\"lambda and degree experiment demo.\"\"\"\n",
    "    # ridge regression with different lambda and degree\n",
    "    rmse_trs = np.empty((len(lambdas), len(degrees)))\n",
    "    rmse_tes = np.empty((len(lambdas), len(degrees)))\n",
    "    for inl, lambda_ in enumerate(lambdas):\n",
    "        for ind, degree in enumerate(degrees):\n",
    "            print(f'lambda:{lambda_}, degree:{degree}')\n",
    "            loss_tr_sum = loss_te_sum = 0\n",
    "            for k in range(k_fold):\n",
    "                x_tr, x_te, y_tr, y_te = get_cross_validation_data(y, x, k, degree, seed, k_fold=10)\n",
    "                # gradient descent\n",
    "                w, loss_tr = ridge_regression(y_tr, x_tr, mse_loss, lambda_)\n",
    "                loss_te = mse_loss(y_te, x_te, w)\n",
    "                loss_tr_sum += loss_tr\n",
    "                loss_te_sum += loss_te\n",
    "            loss_tr_avg = loss_tr_sum / k_fold\n",
    "            loss_te_avg = loss_te_sum / k_fold\n",
    "            rmse_trs[inl, ind] = np.sqrt(2 * loss_tr_avg)\n",
    "            rmse_tes[inl, ind] = np.sqrt(2 * loss_te_avg)\n",
    "    return rmse_tes\n",
    "\n",
    "rmse_tes = lambda_degree_demo(x, y, degrees, lambdas, seed=2021, k_fold=5)\n"
   ]
  },
  {
   "cell_type": "code",
   "execution_count": null,
   "metadata": {},
   "outputs": [],
   "source": []
  }
 ],
 "metadata": {
  "interpreter": {
   "hash": "59adaa1e7f9431e87c3f0d0b3f15a334f8267582f7211cf472f8d14c40f4b5b8"
  },
  "kernelspec": {
   "display_name": "Python 3",
   "language": "python",
   "name": "python3"
  },
  "language_info": {
   "codemirror_mode": {
    "name": "ipython",
    "version": 3
   },
   "file_extension": ".py",
   "mimetype": "text/x-python",
   "name": "python",
   "nbconvert_exporter": "python",
   "pygments_lexer": "ipython3",
   "version": "3.8.8"
  }
 },
 "nbformat": 4,
 "nbformat_minor": 2
}
